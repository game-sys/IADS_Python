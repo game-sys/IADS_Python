{
  "nbformat": 4,
  "nbformat_minor": 0,
  "metadata": {
    "colab": {
      "provenance": [],
      "authorship_tag": "ABX9TyMzR5vHv7QZ5UOUjuP5i7rA",
      "include_colab_link": true
    },
    "kernelspec": {
      "name": "python3",
      "display_name": "Python 3"
    },
    "language_info": {
      "name": "python"
    }
  },
  "cells": [
    {
      "cell_type": "markdown",
      "metadata": {
        "id": "view-in-github",
        "colab_type": "text"
      },
      "source": [
        "<a href=\"https://colab.research.google.com/github/game-sys/IADS_Python/blob/main/6_Read_CSV.ipynb\" target=\"_parent\"><img src=\"https://colab.research.google.com/assets/colab-badge.svg\" alt=\"Open In Colab\"/></a>"
      ]
    },
    {
      "cell_type": "code",
      "execution_count": null,
      "metadata": {
        "id": "vimsphEKN_T9"
      },
      "outputs": [],
      "source": [
        "import csv"
      ]
    },
    {
      "cell_type": "code",
      "source": [
        "with open('avocado.csv') as csvfile:\n",
        "        readCSV = csv.DictReader(csvfile, delimiter=',')\n",
        "        for col in readCSV:\n",
        "            print(col['Date'],col['AveragePrice'], col['Total Volume'], col['Total Bags'],col['Small Bags'],col['Large Bags'],col['XLarge Bags'], col['year'],col['region'] )"
      ],
      "metadata": {
        "id": "cX83OZcJOFfk"
      },
      "execution_count": null,
      "outputs": []
    },
    {
      "cell_type": "code",
      "source": [],
      "metadata": {
        "id": "zEVDOjo_O2uU"
      },
      "execution_count": null,
      "outputs": []
    }
  ]
}