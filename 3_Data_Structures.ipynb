{
  "nbformat": 4,
  "nbformat_minor": 0,
  "metadata": {
    "colab": {
      "provenance": [],
      "authorship_tag": "ABX9TyM9yL+ClRb9fI2giehH/htQ",
      "include_colab_link": true
    },
    "kernelspec": {
      "name": "python3",
      "display_name": "Python 3"
    },
    "language_info": {
      "name": "python"
    }
  },
  "cells": [
    {
      "cell_type": "markdown",
      "metadata": {
        "id": "view-in-github",
        "colab_type": "text"
      },
      "source": [
        "<a href=\"https://colab.research.google.com/github/game-sys/IADS_Python/blob/main/3_Data_Structures.ipynb\" target=\"_parent\"><img src=\"https://colab.research.google.com/assets/colab-badge.svg\" alt=\"Open In Colab\"/></a>"
      ]
    },
    {
      "cell_type": "markdown",
      "source": [
        "# Data Structures\n",
        "\n",
        "In simple terms, It is the the collection or group of data in a particular structure."
      ],
      "metadata": {
        "id": "Mwe_TN4Gf-vB"
      }
    },
    {
      "cell_type": "markdown",
      "source": [
        "\n",
        "\n",
        "---\n",
        "\n",
        "## Lists\n",
        "\n",
        "\n",
        "\n",
        "*   Lists are ordered collections that can store a sequence of elements of different data types.\n",
        "*   They are mutable, which means you can modify, add, or remove elements after creating the list\n",
        "\n",
        "*   Lists are the most commonly used data structure. Think of it as a sequence of data that is enclosed in square brackets and data are separated by a comma. Each of these data can be accessed by calling it's index value.\n",
        "*   Lists are declared by just equating a variable to '[ ]' or list.\n",
        "\n",
        "\n",
        "\n"
      ],
      "metadata": {
        "id": "PQMj4keegVm4"
      }
    },
    {
      "cell_type": "code",
      "execution_count": 90,
      "metadata": {
        "id": "3JmB0DkRf8hV"
      },
      "outputs": [],
      "source": [
        "a = []"
      ]
    },
    {
      "cell_type": "code",
      "source": [
        "print(type(a))"
      ],
      "metadata": {
        "colab": {
          "base_uri": "https://localhost:8080/"
        },
        "id": "bLyds3Wwg-LV",
        "outputId": "2790454e-248b-4374-db10-c3016404750f"
      },
      "execution_count": 91,
      "outputs": [
        {
          "output_type": "stream",
          "name": "stdout",
          "text": [
            "<class 'list'>\n"
          ]
        }
      ]
    },
    {
      "cell_type": "code",
      "source": [
        "my_list = [1, 2, 3, \"hello\", True]"
      ],
      "metadata": {
        "id": "t0GTFq6Og-_z"
      },
      "execution_count": 92,
      "outputs": []
    },
    {
      "cell_type": "code",
      "source": [
        "print(my_list)"
      ],
      "metadata": {
        "colab": {
          "base_uri": "https://localhost:8080/"
        },
        "id": "xsaE60zMhBns",
        "outputId": "f2856001-b816-4595-af4d-9b79ab27faa7"
      },
      "execution_count": 93,
      "outputs": [
        {
          "output_type": "stream",
          "name": "stdout",
          "text": [
            "[1, 2, 3, 'hello', True]\n"
          ]
        }
      ]
    },
    {
      "cell_type": "code",
      "source": [
        "x = ['apple', 'orange', 'banana']"
      ],
      "metadata": {
        "id": "wMlT7H9PhKh1"
      },
      "execution_count": 94,
      "outputs": []
    },
    {
      "cell_type": "code",
      "source": [
        "x[1]"
      ],
      "metadata": {
        "colab": {
          "base_uri": "https://localhost:8080/",
          "height": 35
        },
        "id": "ZL5pn3jGhMwY",
        "outputId": "936125bc-76e7-4cbd-a9fc-207ea7b0f72e"
      },
      "execution_count": 95,
      "outputs": [
        {
          "output_type": "execute_result",
          "data": {
            "text/plain": [
              "'orange'"
            ],
            "application/vnd.google.colaboratory.intrinsic+json": {
              "type": "string"
            }
          },
          "metadata": {},
          "execution_count": 95
        }
      ]
    },
    {
      "cell_type": "code",
      "source": [
        "x[0]='pineapple'"
      ],
      "metadata": {
        "id": "Ixah5TFxhP95"
      },
      "execution_count": 96,
      "outputs": []
    },
    {
      "cell_type": "code",
      "source": [
        "print(x)"
      ],
      "metadata": {
        "colab": {
          "base_uri": "https://localhost:8080/"
        },
        "id": "xGbhS58phgbk",
        "outputId": "49abe30a-f70a-4584-804f-62cb0b052825"
      },
      "execution_count": 97,
      "outputs": [
        {
          "output_type": "stream",
          "name": "stdout",
          "text": [
            "['pineapple', 'orange', 'banana']\n"
          ]
        }
      ]
    },
    {
      "cell_type": "markdown",
      "source": [
        "\n",
        "\n",
        "---\n",
        "\n",
        "\n",
        "### append() is a Python list method used to add an element at the end of the list, extending the list's size."
      ],
      "metadata": {
        "id": "48KW0iZijDZH"
      }
    },
    {
      "cell_type": "code",
      "source": [
        "x.append('apple')\n",
        "x.append('kiwi')"
      ],
      "metadata": {
        "id": "BkdeIqKRhtNq"
      },
      "execution_count": 98,
      "outputs": []
    },
    {
      "cell_type": "code",
      "source": [
        "print(x)"
      ],
      "metadata": {
        "colab": {
          "base_uri": "https://localhost:8080/"
        },
        "id": "VeAhjkTqh0NR",
        "outputId": "39c1cf67-a2fa-44da-c896-7e54b0ddc928"
      },
      "execution_count": 99,
      "outputs": [
        {
          "output_type": "stream",
          "name": "stdout",
          "text": [
            "['pineapple', 'orange', 'banana', 'apple', 'kiwi']\n"
          ]
        }
      ]
    },
    {
      "cell_type": "markdown",
      "source": [
        "\n",
        "\n",
        "---\n",
        "\n",
        "\n",
        "### remove() is a Python list method used to remove the first occurrence of a specified element from the list. If the element is not found in the list, it raises a ValueError."
      ],
      "metadata": {
        "id": "nClsb4VOjLu8"
      }
    },
    {
      "cell_type": "code",
      "source": [
        "x.remove('banana')"
      ],
      "metadata": {
        "id": "eQX4s0Mph3SN"
      },
      "execution_count": 100,
      "outputs": []
    },
    {
      "cell_type": "code",
      "source": [
        "print(x)"
      ],
      "metadata": {
        "colab": {
          "base_uri": "https://localhost:8080/"
        },
        "id": "Gu4KLNk_iHej",
        "outputId": "9e8e3845-440b-4b18-b4d8-bd3631b1499a"
      },
      "execution_count": 101,
      "outputs": [
        {
          "output_type": "stream",
          "name": "stdout",
          "text": [
            "['pineapple', 'orange', 'apple', 'kiwi']\n"
          ]
        }
      ]
    },
    {
      "cell_type": "markdown",
      "source": [
        "\n",
        "\n",
        "---\n",
        "\n",
        "\n",
        "### pop() is a Python list method used to remove and return the element at the specified index from the list. If no index is provided, it removes and returns the last element of the list. This method helps in modifying the list by removing elements at specific positions."
      ],
      "metadata": {
        "id": "WzwnncJvjR8T"
      }
    },
    {
      "cell_type": "code",
      "source": [
        "x.pop()"
      ],
      "metadata": {
        "colab": {
          "base_uri": "https://localhost:8080/",
          "height": 35
        },
        "id": "7Mtnl00YiJwT",
        "outputId": "3b3ba4c7-aa95-4186-9fc0-7c3738da706c"
      },
      "execution_count": 102,
      "outputs": [
        {
          "output_type": "execute_result",
          "data": {
            "text/plain": [
              "'kiwi'"
            ],
            "application/vnd.google.colaboratory.intrinsic+json": {
              "type": "string"
            }
          },
          "metadata": {},
          "execution_count": 102
        }
      ]
    },
    {
      "cell_type": "code",
      "source": [
        "print(x)"
      ],
      "metadata": {
        "colab": {
          "base_uri": "https://localhost:8080/"
        },
        "id": "Sj0eTkNOiQJx",
        "outputId": "2970c71d-16a6-4be7-dfb5-b67ecb8f60cb"
      },
      "execution_count": 103,
      "outputs": [
        {
          "output_type": "stream",
          "name": "stdout",
          "text": [
            "['pineapple', 'orange', 'apple']\n"
          ]
        }
      ]
    },
    {
      "cell_type": "code",
      "source": [
        "x.pop(0)"
      ],
      "metadata": {
        "colab": {
          "base_uri": "https://localhost:8080/",
          "height": 35
        },
        "id": "SY98sEdZiSPj",
        "outputId": "dfd9bd12-87cf-42cc-d137-7ff6fc49cbc9"
      },
      "execution_count": 104,
      "outputs": [
        {
          "output_type": "execute_result",
          "data": {
            "text/plain": [
              "'pineapple'"
            ],
            "application/vnd.google.colaboratory.intrinsic+json": {
              "type": "string"
            }
          },
          "metadata": {},
          "execution_count": 104
        }
      ]
    },
    {
      "cell_type": "code",
      "source": [
        "print(x)"
      ],
      "metadata": {
        "colab": {
          "base_uri": "https://localhost:8080/"
        },
        "id": "FR49qkH_iWSJ",
        "outputId": "2e9146fd-ae87-4187-8107-56dc09f64520"
      },
      "execution_count": 105,
      "outputs": [
        {
          "output_type": "stream",
          "name": "stdout",
          "text": [
            "['orange', 'apple']\n"
          ]
        }
      ]
    },
    {
      "cell_type": "markdown",
      "source": [
        "\n",
        "\n",
        "---\n",
        "\n",
        "### del: It is a Python statement used to delete elements or slices from a list"
      ],
      "metadata": {
        "id": "du793LmQq-bs"
      }
    },
    {
      "cell_type": "code",
      "source": [
        "del x[1]"
      ],
      "metadata": {
        "id": "gBbOiOuWrPh6"
      },
      "execution_count": 106,
      "outputs": []
    },
    {
      "cell_type": "code",
      "source": [
        "print(x)"
      ],
      "metadata": {
        "colab": {
          "base_uri": "https://localhost:8080/"
        },
        "id": "VdY5Ach1rSan",
        "outputId": "14f0d51e-a3f2-4030-f256-d1f473bc3bf6"
      },
      "execution_count": 107,
      "outputs": [
        {
          "output_type": "stream",
          "name": "stdout",
          "text": [
            "['orange']\n"
          ]
        }
      ]
    },
    {
      "cell_type": "markdown",
      "source": [
        "\n",
        "\n",
        "---\n",
        "\n",
        "\n",
        "### insert() is a Python list method used to insert an element at a specified index in the list. It takes two arguments: the index at which the element should be inserted and the element to be inserted. All elements at or after the specified index will be shifted to the right to accommodate the new element."
      ],
      "metadata": {
        "id": "OQgAx73ojcJJ"
      }
    },
    {
      "cell_type": "code",
      "source": [
        "x.insert(0, 'mango')"
      ],
      "metadata": {
        "id": "QptFfDAXiccH"
      },
      "execution_count": 108,
      "outputs": []
    },
    {
      "cell_type": "code",
      "source": [
        "print(x)"
      ],
      "metadata": {
        "colab": {
          "base_uri": "https://localhost:8080/"
        },
        "id": "2BmmUjKNiyUE",
        "outputId": "fdacea83-d1da-4f3b-b9ca-cd8cc01179b4"
      },
      "execution_count": 109,
      "outputs": [
        {
          "output_type": "stream",
          "name": "stdout",
          "text": [
            "['mango', 'orange']\n"
          ]
        }
      ]
    },
    {
      "cell_type": "markdown",
      "source": [
        "\n",
        "\n",
        "---\n",
        "\n",
        "\n",
        "### len() is a built-in Python function used to determine the length or the number\n",
        "of elements in a data structure"
      ],
      "metadata": {
        "id": "C57RY-BvkZvN"
      }
    },
    {
      "cell_type": "code",
      "source": [
        "len(x)"
      ],
      "metadata": {
        "colab": {
          "base_uri": "https://localhost:8080/"
        },
        "id": "y5tAzjrVkJLc",
        "outputId": "45d10033-cabc-4cb7-e889-c01c6d0cc07d"
      },
      "execution_count": 110,
      "outputs": [
        {
          "output_type": "execute_result",
          "data": {
            "text/plain": [
              "2"
            ]
          },
          "metadata": {},
          "execution_count": 110
        }
      ]
    },
    {
      "cell_type": "markdown",
      "source": [
        "\n",
        "\n",
        "---\n",
        "\n",
        "### count() is a Python list method used to count the number of occurrences of a specified element in the list. It takes a single argument, which is the element whose occurrences need to be counted, and returns the count as an integer."
      ],
      "metadata": {
        "id": "MSdtxQ9ykP04"
      }
    },
    {
      "cell_type": "code",
      "source": [
        "x.count('mango')"
      ],
      "metadata": {
        "colab": {
          "base_uri": "https://localhost:8080/"
        },
        "id": "Z2QICDysj9dY",
        "outputId": "bd12e7ae-7b8b-4545-8672-b7a979331888"
      },
      "execution_count": 111,
      "outputs": [
        {
          "output_type": "execute_result",
          "data": {
            "text/plain": [
              "1"
            ]
          },
          "metadata": {},
          "execution_count": 111
        }
      ]
    },
    {
      "cell_type": "code",
      "source": [
        "lst = [1,1,4,8,7]\n",
        "lst1 = [5,4,2,8]"
      ],
      "metadata": {
        "id": "MODfo3hjj1ZF"
      },
      "execution_count": 112,
      "outputs": []
    },
    {
      "cell_type": "code",
      "source": [
        "lst.append(lst1)\n",
        "print(lst)"
      ],
      "metadata": {
        "colab": {
          "base_uri": "https://localhost:8080/"
        },
        "id": "oQRiMXBskp_K",
        "outputId": "1c829b7b-9e6b-4c16-82cd-92c25b696b4d"
      },
      "execution_count": 113,
      "outputs": [
        {
          "output_type": "stream",
          "name": "stdout",
          "text": [
            "[1, 1, 4, 8, 7, [5, 4, 2, 8]]\n"
          ]
        }
      ]
    },
    {
      "cell_type": "code",
      "source": [
        "lst = [1,1,4,8,7]\n",
        "lst1 = [5,4,2,8]"
      ],
      "metadata": {
        "id": "kMGmw2fElAem"
      },
      "execution_count": 114,
      "outputs": []
    },
    {
      "cell_type": "markdown",
      "source": [
        "\n",
        "\n",
        "---\n",
        "\n",
        "### extend() is a Python list method used to append all elements from another iterable (e.g., list, tuple, set) to the end of the original list."
      ],
      "metadata": {
        "id": "cddi4MAulbdu"
      }
    },
    {
      "cell_type": "code",
      "source": [
        "lst.extend(lst1)\n",
        "print(lst)"
      ],
      "metadata": {
        "colab": {
          "base_uri": "https://localhost:8080/"
        },
        "id": "o2kU3UAhlCGf",
        "outputId": "8b004bb6-a8ed-41e0-aeab-7a4a4e85e7c1"
      },
      "execution_count": 115,
      "outputs": [
        {
          "output_type": "stream",
          "name": "stdout",
          "text": [
            "[1, 1, 4, 8, 7, 5, 4, 2, 8]\n"
          ]
        }
      ]
    },
    {
      "cell_type": "markdown",
      "source": [
        "\n",
        "\n",
        "---\n",
        "\n",
        "### sort() is a Python list method used to sort the elements of a list in ascending order. It modifies the original list in-place and arranges the elements from the lowest to the highest value."
      ],
      "metadata": {
        "id": "IcNXNGyQmFUS"
      }
    },
    {
      "cell_type": "code",
      "source": [
        "lst.sort()\n",
        "print(lst)"
      ],
      "metadata": {
        "colab": {
          "base_uri": "https://localhost:8080/"
        },
        "id": "34YSoOltl0z1",
        "outputId": "369bff4e-158a-4465-d9ff-66dc4bb382a7"
      },
      "execution_count": 116,
      "outputs": [
        {
          "output_type": "stream",
          "name": "stdout",
          "text": [
            "[1, 1, 2, 4, 4, 5, 7, 8, 8]\n"
          ]
        }
      ]
    },
    {
      "cell_type": "markdown",
      "source": [
        "\n",
        "\n",
        "---\n",
        "\n",
        "### reverse() is a Python list method used to reverse the order of elements in a list. It modifies the original list in-place, flipping the elements so that the last element becomes the first, the second-to-last becomes the second, and so on."
      ],
      "metadata": {
        "id": "1r1SfZu0mKZU"
      }
    },
    {
      "cell_type": "code",
      "source": [
        "lst.reverse()\n",
        "print(lst)"
      ],
      "metadata": {
        "colab": {
          "base_uri": "https://localhost:8080/"
        },
        "id": "OIQ3Lm4jl6Wn",
        "outputId": "ba447dae-8274-4a84-9602-cc2d7cc9f785"
      },
      "execution_count": 117,
      "outputs": [
        {
          "output_type": "stream",
          "name": "stdout",
          "text": [
            "[8, 8, 7, 5, 4, 4, 2, 1, 1]\n"
          ]
        }
      ]
    },
    {
      "cell_type": "markdown",
      "source": [
        "\n",
        "\n",
        "---\n",
        "\n",
        "### In Python, the min() and max() functions are built-in functions used to find the minimum and maximum values from a sequence"
      ],
      "metadata": {
        "id": "FPWmI7ykoD2D"
      }
    },
    {
      "cell_type": "code",
      "source": [
        "print(min(lst))\n",
        "print(max(lst))"
      ],
      "metadata": {
        "colab": {
          "base_uri": "https://localhost:8080/"
        },
        "id": "ODNkkhkBntGi",
        "outputId": "140fd3ff-d760-4137-d406-61427b341a59"
      },
      "execution_count": 118,
      "outputs": [
        {
          "output_type": "stream",
          "name": "stdout",
          "text": [
            "1\n",
            "8\n"
          ]
        }
      ]
    },
    {
      "cell_type": "markdown",
      "source": [
        "Lists can be concatenated by adding, '+' them. The resultant list will contain all the elements of the lists that were added. The resultant list will not be a nested list."
      ],
      "metadata": {
        "id": "9wzAxQdPproK"
      }
    },
    {
      "cell_type": "code",
      "source": [
        "[1,2,3] + [5,4,7]"
      ],
      "metadata": {
        "colab": {
          "base_uri": "https://localhost:8080/"
        },
        "id": "pCWhS_Dypq14",
        "outputId": "4e843380-2181-4d1d-fd24-59b0a9e02513"
      },
      "execution_count": 119,
      "outputs": [
        {
          "output_type": "execute_result",
          "data": {
            "text/plain": [
              "[1, 2, 3, 5, 4, 7]"
            ]
          },
          "metadata": {},
          "execution_count": 119
        }
      ]
    },
    {
      "cell_type": "markdown",
      "source": [
        "There might arise a requirement where you might need to check if a particular element is there in a predefined list. Consider the below list."
      ],
      "metadata": {
        "id": "EZU4x-0Yp4xW"
      }
    },
    {
      "cell_type": "code",
      "source": [
        "names = ['Earth','Air','Fire','Water']"
      ],
      "metadata": {
        "id": "oADNHYjqp5iW"
      },
      "execution_count": 120,
      "outputs": []
    },
    {
      "cell_type": "code",
      "source": [
        "'Fire' in names"
      ],
      "metadata": {
        "colab": {
          "base_uri": "https://localhost:8080/"
        },
        "id": "T5lKbHPGp7lp",
        "outputId": "21c0107d-e830-482e-b034-bcdd22379a4f"
      },
      "execution_count": 121,
      "outputs": [
        {
          "output_type": "execute_result",
          "data": {
            "text/plain": [
              "True"
            ]
          },
          "metadata": {},
          "execution_count": 121
        }
      ]
    },
    {
      "cell_type": "code",
      "source": [
        "'Smith' in names"
      ],
      "metadata": {
        "colab": {
          "base_uri": "https://localhost:8080/"
        },
        "id": "WHOK2QC7p9I1",
        "outputId": "3649a4c9-fbbb-4e6a-9838-38950bc9c605"
      },
      "execution_count": 122,
      "outputs": [
        {
          "output_type": "execute_result",
          "data": {
            "text/plain": [
              "False"
            ]
          },
          "metadata": {},
          "execution_count": 122
        }
      ]
    },
    {
      "cell_type": "markdown",
      "source": [
        "\n",
        "\n",
        "---\n",
        "\n",
        "\n",
        "## Slicing\n",
        "\n",
        "Indexing was only limited to accessing a single element, Slicing on the other hand is accessing a sequence of data inside the list. In other words \"slicing\" the list.\n",
        "\n",
        "Slicing is done by defining the index values of the first element and the last element from the parent list that is required in the sliced list. It is written as parentlist[ a : b ] where a,b are the index values from the parent list. If a or b is not defined then the index value is considered to be the first value for a if a is not defined and the last value for b when b is not defined."
      ],
      "metadata": {
        "id": "8ZNNHNf2kjxv"
      }
    },
    {
      "cell_type": "code",
      "source": [
        "num = [0,1,2,3,4,5,6,7,8,9]"
      ],
      "metadata": {
        "id": "SXnsCpwjnCBz"
      },
      "execution_count": 123,
      "outputs": []
    },
    {
      "cell_type": "code",
      "source": [
        "print(num[0:4])"
      ],
      "metadata": {
        "colab": {
          "base_uri": "https://localhost:8080/"
        },
        "id": "5fxINpj6nCsK",
        "outputId": "9a091e32-9d28-427b-8b20-21c939d041ea"
      },
      "execution_count": 124,
      "outputs": [
        {
          "output_type": "stream",
          "name": "stdout",
          "text": [
            "[0, 1, 2, 3]\n"
          ]
        }
      ]
    },
    {
      "cell_type": "code",
      "source": [
        "print(num[:4])"
      ],
      "metadata": {
        "colab": {
          "base_uri": "https://localhost:8080/"
        },
        "id": "hBDbv_BfnGNh",
        "outputId": "2d78391c-e79f-47ab-c35e-a13d24684001"
      },
      "execution_count": 125,
      "outputs": [
        {
          "output_type": "stream",
          "name": "stdout",
          "text": [
            "[0, 1, 2, 3]\n"
          ]
        }
      ]
    },
    {
      "cell_type": "code",
      "source": [
        "print(num[4:])"
      ],
      "metadata": {
        "colab": {
          "base_uri": "https://localhost:8080/"
        },
        "id": "FM2jlR_wnaqd",
        "outputId": "ee0395cd-7847-4d68-ce8d-1683918359c5"
      },
      "execution_count": 126,
      "outputs": [
        {
          "output_type": "stream",
          "name": "stdout",
          "text": [
            "[4, 5, 6, 7, 8, 9]\n"
          ]
        }
      ]
    },
    {
      "cell_type": "code",
      "source": [
        "print(num[:4:])"
      ],
      "metadata": {
        "colab": {
          "base_uri": "https://localhost:8080/"
        },
        "id": "UEMm2HnLnKm5",
        "outputId": "9d02a825-9a05-411e-8e29-1df583fcb543"
      },
      "execution_count": 127,
      "outputs": [
        {
          "output_type": "stream",
          "name": "stdout",
          "text": [
            "[0, 1, 2, 3]\n"
          ]
        }
      ]
    },
    {
      "cell_type": "code",
      "source": [
        "print(num[:4:1])"
      ],
      "metadata": {
        "colab": {
          "base_uri": "https://localhost:8080/"
        },
        "id": "2hMaxiKInOk2",
        "outputId": "9a9016b6-69f3-4794-a8a1-2dd31a7013f8"
      },
      "execution_count": 128,
      "outputs": [
        {
          "output_type": "stream",
          "name": "stdout",
          "text": [
            "[0, 1, 2, 3]\n"
          ]
        }
      ]
    },
    {
      "cell_type": "code",
      "source": [
        "print(num[:4:2])"
      ],
      "metadata": {
        "colab": {
          "base_uri": "https://localhost:8080/"
        },
        "id": "TAhN3f9vnRZ3",
        "outputId": "8436ff8c-3857-4dd0-f920-0ffc3984be65"
      },
      "execution_count": 129,
      "outputs": [
        {
          "output_type": "stream",
          "name": "stdout",
          "text": [
            "[0, 2]\n"
          ]
        }
      ]
    },
    {
      "cell_type": "code",
      "source": [
        "print(num[::])"
      ],
      "metadata": {
        "colab": {
          "base_uri": "https://localhost:8080/"
        },
        "id": "qxp-s_EIoN8B",
        "outputId": "898c9a61-acd2-463f-fc4e-4acef063e347"
      },
      "execution_count": 130,
      "outputs": [
        {
          "output_type": "stream",
          "name": "stdout",
          "text": [
            "[0, 1, 2, 3, 4, 5, 6, 7, 8, 9]\n"
          ]
        }
      ]
    },
    {
      "cell_type": "code",
      "source": [
        "print(num[::3])"
      ],
      "metadata": {
        "colab": {
          "base_uri": "https://localhost:8080/"
        },
        "id": "cY2uCQp2odIA",
        "outputId": "3987e4bc-f104-4aa4-e816-0ea2f984ff82"
      },
      "execution_count": 131,
      "outputs": [
        {
          "output_type": "stream",
          "name": "stdout",
          "text": [
            "[0, 3, 6, 9]\n"
          ]
        }
      ]
    },
    {
      "cell_type": "code",
      "source": [
        "print(num[-1])"
      ],
      "metadata": {
        "colab": {
          "base_uri": "https://localhost:8080/"
        },
        "id": "hT8JYTpcowH-",
        "outputId": "924c069c-084c-46e9-a3f7-9f77db5734eb"
      },
      "execution_count": 132,
      "outputs": [
        {
          "output_type": "stream",
          "name": "stdout",
          "text": [
            "9\n"
          ]
        }
      ]
    },
    {
      "cell_type": "code",
      "source": [
        "print(num[:-1])"
      ],
      "metadata": {
        "colab": {
          "base_uri": "https://localhost:8080/"
        },
        "id": "a7PZJUDwo4Kk",
        "outputId": "bbddf000-acc8-4b04-e38e-963bbc97020f"
      },
      "execution_count": 133,
      "outputs": [
        {
          "output_type": "stream",
          "name": "stdout",
          "text": [
            "[0, 1, 2, 3, 4, 5, 6, 7, 8]\n"
          ]
        }
      ]
    },
    {
      "cell_type": "code",
      "source": [
        "print(num[-1:])"
      ],
      "metadata": {
        "colab": {
          "base_uri": "https://localhost:8080/"
        },
        "id": "lEXlCoQ6okR9",
        "outputId": "01580a64-b586-4404-d331-4b5577421160"
      },
      "execution_count": 134,
      "outputs": [
        {
          "output_type": "stream",
          "name": "stdout",
          "text": [
            "[9]\n"
          ]
        }
      ]
    },
    {
      "cell_type": "code",
      "source": [
        "print(num[::-1])"
      ],
      "metadata": {
        "colab": {
          "base_uri": "https://localhost:8080/"
        },
        "id": "pAZbsWwCo87U",
        "outputId": "f56add2b-9bfb-489c-e3f6-948d5cbcd5f3"
      },
      "execution_count": 135,
      "outputs": [
        {
          "output_type": "stream",
          "name": "stdout",
          "text": [
            "[9, 8, 7, 6, 5, 4, 3, 2, 1, 0]\n"
          ]
        }
      ]
    },
    {
      "cell_type": "code",
      "source": [
        "print(num[::-2])"
      ],
      "metadata": {
        "colab": {
          "base_uri": "https://localhost:8080/"
        },
        "id": "HxZU6PE8pAs7",
        "outputId": "f2456c4d-2194-4241-9f21-6443361321c9"
      },
      "execution_count": 136,
      "outputs": [
        {
          "output_type": "stream",
          "name": "stdout",
          "text": [
            "[9, 7, 5, 3, 1]\n"
          ]
        }
      ]
    },
    {
      "cell_type": "markdown",
      "source": [
        "\n",
        "\n",
        "---\n",
        "\n",
        "# Sets\n",
        "Sets are unordered collections of unique elements. They are commonly used to perform mathematical set operations like union, intersection, etc."
      ],
      "metadata": {
        "id": "jKkT14tKymLk"
      }
    },
    {
      "cell_type": "code",
      "source": [
        "set1 = set([1,2,3])\n",
        "set2 = {2,2,3,4,5}\n"
      ],
      "metadata": {
        "id": "igJSAPoFyphM"
      },
      "execution_count": 153,
      "outputs": []
    },
    {
      "cell_type": "code",
      "source": [
        "print(set1)\n",
        "print(set2)"
      ],
      "metadata": {
        "colab": {
          "base_uri": "https://localhost:8080/"
        },
        "id": "x5DOYfOAzQ7z",
        "outputId": "8e04f7b8-ecf6-4887-e05f-f3eafde693bc"
      },
      "execution_count": 154,
      "outputs": [
        {
          "output_type": "stream",
          "name": "stdout",
          "text": [
            "{1, 2, 3}\n",
            "{2, 3, 4, 5}\n"
          ]
        }
      ]
    },
    {
      "cell_type": "markdown",
      "source": [
        "\n",
        "\n",
        "---\n",
        "\n",
        "### The add() method is used to add a single element to a set. If the element is already present in the set, it does nothing and does not raise an error. Sets are unordered collections of unique elements, so adding an element that already exists will not create a duplicate."
      ],
      "metadata": {
        "id": "KQ1LiISF0KrK"
      }
    },
    {
      "cell_type": "code",
      "source": [
        "print(type(set1), type(set2))"
      ],
      "metadata": {
        "colab": {
          "base_uri": "https://localhost:8080/"
        },
        "id": "371ttBwT1u_C",
        "outputId": "6de5d88b-6ec0-4ed0-c691-1a3245ca26d4"
      },
      "execution_count": 155,
      "outputs": [
        {
          "output_type": "stream",
          "name": "stdout",
          "text": [
            "<class 'set'> <class 'set'>\n"
          ]
        }
      ]
    },
    {
      "cell_type": "code",
      "source": [
        "# Adding elements\n",
        "set1.add(6)"
      ],
      "metadata": {
        "id": "RaBImfQMzD2k"
      },
      "execution_count": 139,
      "outputs": []
    },
    {
      "cell_type": "markdown",
      "source": [
        "\n",
        "\n",
        "---\n",
        "\n",
        "### The remove() method is used to remove a specific element from the set. If the element is not found in the set, it raises a KeyError."
      ],
      "metadata": {
        "id": "FNDFkPxY0Uol"
      }
    },
    {
      "cell_type": "code",
      "source": [
        "# Removing elements\n",
        "set2.remove(2)"
      ],
      "metadata": {
        "id": "0l99lv24zISv"
      },
      "execution_count": 140,
      "outputs": []
    },
    {
      "cell_type": "code",
      "source": [
        "print(set1)\n",
        "print(set2)"
      ],
      "metadata": {
        "colab": {
          "base_uri": "https://localhost:8080/"
        },
        "id": "LbjdbTWBzMC0",
        "outputId": "f089dd3d-a912-4336-8d58-69659068a984"
      },
      "execution_count": 141,
      "outputs": [
        {
          "output_type": "stream",
          "name": "stdout",
          "text": [
            "{1, 2, 3, 6}\n",
            "{3, 4, 5}\n"
          ]
        }
      ]
    },
    {
      "cell_type": "markdown",
      "source": [
        "\n",
        "\n",
        "---\n",
        "\n",
        "### Union: The union of two sets is a new set containing all the unique elements present in either of the original sets. It combines the elements of both sets, removing any duplicates."
      ],
      "metadata": {
        "id": "_dLo9xX9zzO7"
      }
    },
    {
      "cell_type": "code",
      "source": [
        "set1.union(set2)"
      ],
      "metadata": {
        "colab": {
          "base_uri": "https://localhost:8080/"
        },
        "id": "4ox8hvrhzec3",
        "outputId": "8b724b08-f662-4040-c406-a25832266789"
      },
      "execution_count": 142,
      "outputs": [
        {
          "output_type": "execute_result",
          "data": {
            "text/plain": [
              "{1, 2, 3, 4, 5, 6}"
            ]
          },
          "metadata": {},
          "execution_count": 142
        }
      ]
    },
    {
      "cell_type": "markdown",
      "source": [
        "\n",
        "\n",
        "---\n",
        "\n",
        "### Intersection: The intersection of two sets is a new set containing only the common elements present in both sets."
      ],
      "metadata": {
        "id": "prOgX0ZOz5d-"
      }
    },
    {
      "cell_type": "code",
      "source": [
        "set1.intersection(set2)"
      ],
      "metadata": {
        "colab": {
          "base_uri": "https://localhost:8080/"
        },
        "id": "4_R7YTabzfGy",
        "outputId": "da95525e-d102-4cbd-bcb1-96a43263bc5b"
      },
      "execution_count": 143,
      "outputs": [
        {
          "output_type": "execute_result",
          "data": {
            "text/plain": [
              "{3}"
            ]
          },
          "metadata": {},
          "execution_count": 143
        }
      ]
    },
    {
      "cell_type": "markdown",
      "source": [
        "\n",
        "\n",
        "---\n",
        "\n",
        "### Difference: The difference of two sets is a new set containing the elements that are present in the first set but not in the second set."
      ],
      "metadata": {
        "id": "zhGOJSUNz8_0"
      }
    },
    {
      "cell_type": "code",
      "source": [
        "set1.difference(set2)"
      ],
      "metadata": {
        "colab": {
          "base_uri": "https://localhost:8080/"
        },
        "id": "9sGYu_oazgXI",
        "outputId": "3dd6a2c7-48cf-4c2f-e3e3-2aec1da07ad7"
      },
      "execution_count": 144,
      "outputs": [
        {
          "output_type": "execute_result",
          "data": {
            "text/plain": [
              "{1, 2, 6}"
            ]
          },
          "metadata": {},
          "execution_count": 144
        }
      ]
    },
    {
      "cell_type": "markdown",
      "source": [
        "\n",
        "\n",
        "---\n",
        "\n",
        "### Issubset: The issubset() method is used to check if one set is a subset of another. It returns True if all the elements of the first set are present in the second set; otherwise, it returns False."
      ],
      "metadata": {
        "id": "BpkDhSSL0CBh"
      }
    },
    {
      "cell_type": "code",
      "source": [
        "set1.issubset(set2)"
      ],
      "metadata": {
        "colab": {
          "base_uri": "https://localhost:8080/"
        },
        "id": "fAL8xkyxziTG",
        "outputId": "10f620cf-1971-4f8e-84bf-42cdf5aa1d07"
      },
      "execution_count": 145,
      "outputs": [
        {
          "output_type": "execute_result",
          "data": {
            "text/plain": [
              "False"
            ]
          },
          "metadata": {},
          "execution_count": 145
        }
      ]
    },
    {
      "cell_type": "markdown",
      "source": [
        "\n",
        "\n",
        "---\n",
        "\n",
        "# Strings\n",
        "Strings are ordered text based data which are represented by enclosing the same in single/double/triple quotes."
      ],
      "metadata": {
        "id": "COFrnOSq04bL"
      }
    },
    {
      "cell_type": "code",
      "source": [
        "String0 = 'Paris is beautiful'\n",
        "String1 = \"Paris is beautiful\"\n",
        "String2 = '''Paris\n",
        "is\n",
        "beautiful'''"
      ],
      "metadata": {
        "id": "uo4g_ULI1Fl1"
      },
      "execution_count": null,
      "outputs": []
    },
    {
      "cell_type": "code",
      "source": [
        "print(String0 , type(String0))\n",
        "print(String1, type(String1))\n",
        "print(String2, type(String2))"
      ],
      "metadata": {
        "id": "mWH8ddT21GJ8"
      },
      "execution_count": null,
      "outputs": []
    },
    {
      "cell_type": "code",
      "source": [
        "print(String0[4])\n",
        "print(String0[4:])"
      ],
      "metadata": {
        "id": "LvY8l_Aa1IbU"
      },
      "execution_count": null,
      "outputs": []
    },
    {
      "cell_type": "code",
      "source": [
        "print(String0.find('ri'))\n",
        "print(String0.find('za'))"
      ],
      "metadata": {
        "id": "ImHxxtd51Js0"
      },
      "execution_count": null,
      "outputs": []
    },
    {
      "cell_type": "code",
      "source": [
        "String3 = 'observe the first letter in this sentence.'\n",
        "print(String3.capitalize())"
      ],
      "metadata": {
        "id": "sSmGjA_31LqD"
      },
      "execution_count": null,
      "outputs": []
    },
    {
      "cell_type": "code",
      "source": [
        "String0.center(70)"
      ],
      "metadata": {
        "id": "57CNZW-31Onz"
      },
      "execution_count": null,
      "outputs": []
    },
    {
      "cell_type": "code",
      "source": [
        "print(String0.endswith('s'))"
      ],
      "metadata": {
        "id": "PkGX0IS81QPL"
      },
      "execution_count": null,
      "outputs": []
    },
    {
      "cell_type": "code",
      "source": [
        "print(String0.count('a',0))"
      ],
      "metadata": {
        "id": "kMKUrBtO1Rei"
      },
      "execution_count": null,
      "outputs": []
    },
    {
      "cell_type": "code",
      "source": [
        "print(String0.count('a',1,10))"
      ],
      "metadata": {
        "id": "Qkc13RyZ1S8K"
      },
      "execution_count": null,
      "outputs": []
    },
    {
      "cell_type": "code",
      "source": [
        "String0.upper()"
      ],
      "metadata": {
        "id": "em-dWvBj1VpS"
      },
      "execution_count": null,
      "outputs": []
    },
    {
      "cell_type": "markdown",
      "source": [
        "\n",
        "\n",
        "---\n",
        "\n",
        "# Dictionaries:\n",
        "\n",
        "Dictionaries are key-value pairs, where each element is associated with a unique key. They allow fast access to values based on their keys and are useful for representing data in a structured way."
      ],
      "metadata": {
        "id": "KJnt5u881arh"
      }
    },
    {
      "cell_type": "code",
      "source": [
        "d0 = {}\n",
        "d1 = dict()\n",
        "print(type(d0), type(d1))"
      ],
      "metadata": {
        "colab": {
          "base_uri": "https://localhost:8080/"
        },
        "id": "4XhothO-2QhP",
        "outputId": "dd51b053-fa4f-41e7-f015-887bb2eac709"
      },
      "execution_count": 156,
      "outputs": [
        {
          "output_type": "stream",
          "name": "stdout",
          "text": [
            "<class 'dict'> <class 'dict'>\n"
          ]
        }
      ]
    },
    {
      "cell_type": "code",
      "source": [
        "d0['One'] = 1\n",
        "d0['OneTwo'] = 12\n",
        "print(d0)"
      ],
      "metadata": {
        "colab": {
          "base_uri": "https://localhost:8080/"
        },
        "id": "6IKgJ2ba2Sgn",
        "outputId": "57aaf0f2-6473-413b-af5a-c676f670d866"
      },
      "execution_count": 157,
      "outputs": [
        {
          "output_type": "stream",
          "name": "stdout",
          "text": [
            "{'One': 1, 'OneTwo': 12}\n"
          ]
        }
      ]
    },
    {
      "cell_type": "code",
      "source": [
        "print(d0['One'])"
      ],
      "metadata": {
        "colab": {
          "base_uri": "https://localhost:8080/"
        },
        "id": "JGttONoz2atd",
        "outputId": "f33d0f6d-07a6-4aef-8b96-4d3ba7782748"
      },
      "execution_count": 158,
      "outputs": [
        {
          "output_type": "stream",
          "name": "stdout",
          "text": [
            "1\n"
          ]
        }
      ]
    },
    {
      "cell_type": "code",
      "source": [
        "# Two lists which are related can be merged to form a dictionary.\n",
        "keys = ['One', 'Two', 'Three', 'Four', 'Five']\n",
        "values = [1, 2, 3, 4, 5]"
      ],
      "metadata": {
        "id": "GZ9Bjmml2bzW"
      },
      "execution_count": 159,
      "outputs": []
    },
    {
      "cell_type": "code",
      "source": [
        "# zip( ) function is used to combine two lists\n",
        "dictionary = dict(zip(keys, values))\n",
        "print(dictionary)"
      ],
      "metadata": {
        "colab": {
          "base_uri": "https://localhost:8080/"
        },
        "id": "9j-gsGZq2hGu",
        "outputId": "a6621b98-e9ad-4a0b-889f-72e923042608"
      },
      "execution_count": 160,
      "outputs": [
        {
          "output_type": "stream",
          "name": "stdout",
          "text": [
            "{'One': 1, 'Two': 2, 'Three': 3, 'Four': 4, 'Five': 5}\n"
          ]
        }
      ]
    },
    {
      "cell_type": "code",
      "source": [
        "dictionary['Six'] = 6"
      ],
      "metadata": {
        "id": "y3lKOmz62ojO"
      },
      "execution_count": 161,
      "outputs": []
    },
    {
      "cell_type": "code",
      "source": [
        "print(dictionary)"
      ],
      "metadata": {
        "colab": {
          "base_uri": "https://localhost:8080/"
        },
        "id": "BOIimXVP22_p",
        "outputId": "557a0089-bd50-4f1e-cf99-40adf98cbabf"
      },
      "execution_count": 162,
      "outputs": [
        {
          "output_type": "stream",
          "name": "stdout",
          "text": [
            "{'One': 1, 'Two': 2, 'Three': 3, 'Four': 4, 'Five': 5, 'Six': 6}\n"
          ]
        }
      ]
    },
    {
      "cell_type": "code",
      "source": [
        "del dictionary['Two']"
      ],
      "metadata": {
        "id": "kSq24ref27d_"
      },
      "execution_count": 163,
      "outputs": []
    },
    {
      "cell_type": "code",
      "source": [
        "print(dictionary)"
      ],
      "metadata": {
        "colab": {
          "base_uri": "https://localhost:8080/"
        },
        "id": "NMTg_3743BR2",
        "outputId": "206ae743-a601-45f7-ad92-933d5e1f4cad"
      },
      "execution_count": 164,
      "outputs": [
        {
          "output_type": "stream",
          "name": "stdout",
          "text": [
            "{'One': 1, 'Three': 3, 'Four': 4, 'Five': 5, 'Six': 6}\n"
          ]
        }
      ]
    }
  ]
}