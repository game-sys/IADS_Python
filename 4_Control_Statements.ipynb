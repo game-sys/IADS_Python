{
  "nbformat": 4,
  "nbformat_minor": 0,
  "metadata": {
    "colab": {
      "provenance": [],
      "authorship_tag": "ABX9TyO5s60m5njlyu6lWkdMbC+/",
      "include_colab_link": true
    },
    "kernelspec": {
      "name": "python3",
      "display_name": "Python 3"
    },
    "language_info": {
      "name": "python"
    }
  },
  "cells": [
    {
      "cell_type": "markdown",
      "metadata": {
        "id": "view-in-github",
        "colab_type": "text"
      },
      "source": [
        "<a href=\"https://colab.research.google.com/github/game-sys/IADS_Python/blob/main/4_Control_Statements.ipynb\" target=\"_parent\"><img src=\"https://colab.research.google.com/assets/colab-badge.svg\" alt=\"Open In Colab\"/></a>"
      ]
    },
    {
      "cell_type": "markdown",
      "source": [
        "# Control Flow Statements\n",
        "\n",
        "Control flow statements in Python are used to control the order of execution of code based on specific conditions or loops. They allow you to make decisions and execute code blocks repeatedly."
      ],
      "metadata": {
        "id": "mByenibX4ch2"
      }
    },
    {
      "cell_type": "markdown",
      "source": [
        "\n",
        "\n",
        "---\n",
        "\n",
        "### if-elif-else:"
      ],
      "metadata": {
        "id": "vi7M2JH24w3g"
      }
    },
    {
      "cell_type": "code",
      "execution_count": 1,
      "metadata": {
        "colab": {
          "base_uri": "https://localhost:8080/"
        },
        "id": "8tHhsN8Z4Uvy",
        "outputId": "bfede3ca-9b53-4a64-fb21-321d2a4e0b17"
      },
      "outputs": [
        {
          "output_type": "stream",
          "name": "stdout",
          "text": [
            "x is Greater than 10\n"
          ]
        }
      ],
      "source": [
        "x = 12\n",
        "if x >10:\n",
        "    print(\"x is Greater than 10\")"
      ]
    },
    {
      "cell_type": "code",
      "source": [
        "x = 9\n",
        "if x >10:\n",
        "    print(\"x is Greater than 10\")\n",
        "else:\n",
        "    print(\"x is Less than 10\")"
      ],
      "metadata": {
        "colab": {
          "base_uri": "https://localhost:8080/"
        },
        "id": "GM1ZGJIu5A-T",
        "outputId": "4f72eab2-3542-4b3f-a16b-bc453581fb1b"
      },
      "execution_count": 3,
      "outputs": [
        {
          "output_type": "stream",
          "name": "stdout",
          "text": [
            "x is Less than 10\n"
          ]
        }
      ]
    },
    {
      "cell_type": "code",
      "source": [
        "x = 10\n",
        "y = 12\n",
        "if x > y:\n",
        "    print(\"x>y\")\n",
        "elif x < y:\n",
        "    print(\"x<y\")\n",
        "else:\n",
        "    print(\"x=y\")"
      ],
      "metadata": {
        "colab": {
          "base_uri": "https://localhost:8080/"
        },
        "id": "0g_xhU2p5SvU",
        "outputId": "c703670b-a3ff-4ab1-cc95-605896e37a59"
      },
      "execution_count": 4,
      "outputs": [
        {
          "output_type": "stream",
          "name": "stdout",
          "text": [
            "x<y\n"
          ]
        }
      ]
    },
    {
      "cell_type": "markdown",
      "source": [
        "\n",
        "\n",
        "---\n",
        "\n",
        "### Nested if-else"
      ],
      "metadata": {
        "id": "-1aQ_sZE5vCp"
      }
    },
    {
      "cell_type": "code",
      "source": [
        "x = 10\n",
        "\n",
        "if x > 0:\n",
        "    print(\"x is positive.\")\n",
        "\n",
        "    if x % 2 == 0:\n",
        "        print(\"x is even.\")\n",
        "    else:\n",
        "        print(\"x is odd.\")\n",
        "\n",
        "else:\n",
        "    print(\"x is non-positive.\")"
      ],
      "metadata": {
        "id": "AABS8Y0Z5t5c"
      },
      "execution_count": null,
      "outputs": []
    },
    {
      "cell_type": "markdown",
      "source": [
        "\n",
        "\n",
        "---\n",
        "\n",
        "# Loops"
      ],
      "metadata": {
        "id": "0QWrAHBW6g9H"
      }
    },
    {
      "cell_type": "markdown",
      "source": [
        "\n",
        "\n",
        "---\n",
        "\n",
        "### for loop"
      ],
      "metadata": {
        "id": "tueZQV6Y61j8"
      }
    },
    {
      "cell_type": "code",
      "source": [
        "for i in range(5):\n",
        "    print(i)"
      ],
      "metadata": {
        "colab": {
          "base_uri": "https://localhost:8080/"
        },
        "id": "--kqQknc6-IR",
        "outputId": "cb697d1b-2136-4981-8c8d-4a37c191ec15"
      },
      "execution_count": 5,
      "outputs": [
        {
          "output_type": "stream",
          "name": "stdout",
          "text": [
            "0\n",
            "1\n",
            "2\n",
            "3\n",
            "4\n"
          ]
        }
      ]
    },
    {
      "cell_type": "code",
      "source": [
        "list_of_lists = [[1, 2, 3], [4, 5, 6], [7, 8, 9]]\n",
        "for list1 in list_of_lists:\n",
        "        print(list1)"
      ],
      "metadata": {
        "colab": {
          "base_uri": "https://localhost:8080/"
        },
        "id": "kFm1kKl-6-xK",
        "outputId": "9f0ade17-8592-4c8e-d7a1-f19efbcb1836"
      },
      "execution_count": 6,
      "outputs": [
        {
          "output_type": "stream",
          "name": "stdout",
          "text": [
            "[1, 2, 3]\n",
            "[4, 5, 6]\n",
            "[7, 8, 9]\n"
          ]
        }
      ]
    },
    {
      "cell_type": "code",
      "source": [
        "list_of_lists = [[1, 2, 3], [4, 5, 6], [7, 8, 9]]\n",
        "for list1 in list_of_lists:\n",
        "    for number in list1:\n",
        "        print(number)"
      ],
      "metadata": {
        "colab": {
          "base_uri": "https://localhost:8080/"
        },
        "id": "jCGZpInv7Fkx",
        "outputId": "da68a8c7-f6eb-4d5b-8897-ce91be95d686"
      },
      "execution_count": 7,
      "outputs": [
        {
          "output_type": "stream",
          "name": "stdout",
          "text": [
            "1\n",
            "2\n",
            "3\n",
            "4\n",
            "5\n",
            "6\n",
            "7\n",
            "8\n",
            "9\n"
          ]
        }
      ]
    },
    {
      "cell_type": "markdown",
      "source": [
        "\n",
        "\n",
        "---\n",
        "\n",
        "### while loop\n",
        "The while loop executes a code block repeatedly as long as a certain condition remains True."
      ],
      "metadata": {
        "id": "_vuEyI287L7v"
      }
    },
    {
      "cell_type": "code",
      "source": [
        "count = 0\n",
        "while count < 5:\n",
        "    print(count)\n",
        "    count += 1"
      ],
      "metadata": {
        "colab": {
          "base_uri": "https://localhost:8080/"
        },
        "id": "TQswWMj57add",
        "outputId": "b797a2b2-9764-47ef-b1bc-42ff10d31687"
      },
      "execution_count": 8,
      "outputs": [
        {
          "output_type": "stream",
          "name": "stdout",
          "text": [
            "0\n",
            "1\n",
            "2\n",
            "3\n",
            "4\n"
          ]
        }
      ]
    },
    {
      "cell_type": "code",
      "source": [
        "i = 1\n",
        "while i < 3:\n",
        "    print(i ** 2)\n",
        "    i = i+1\n",
        "print('Bye')"
      ],
      "metadata": {
        "colab": {
          "base_uri": "https://localhost:8080/"
        },
        "id": "Z2RKOuPp7LkP",
        "outputId": "9ccac2c6-d491-4e0b-f391-7e7cba5f5ccd"
      },
      "execution_count": 9,
      "outputs": [
        {
          "output_type": "stream",
          "name": "stdout",
          "text": [
            "1\n",
            "4\n",
            "Bye\n"
          ]
        }
      ]
    },
    {
      "cell_type": "markdown",
      "source": [
        "\n",
        "\n",
        "---\n",
        "\n",
        "### Break\n",
        "\n",
        "The break statement is used to terminate the loop prematurely. It is often used within a loop when a specific condition is met."
      ],
      "metadata": {
        "id": "xwiwCqqW7jhN"
      }
    },
    {
      "cell_type": "code",
      "source": [
        "for num in range(10):\n",
        "    if num == 5:\n",
        "        break\n",
        "    print(num)"
      ],
      "metadata": {
        "colab": {
          "base_uri": "https://localhost:8080/"
        },
        "id": "4LMOXyni7X4w",
        "outputId": "40e46511-456f-4fe5-c091-aa8bad6ab2e5"
      },
      "execution_count": 10,
      "outputs": [
        {
          "output_type": "stream",
          "name": "stdout",
          "text": [
            "0\n",
            "1\n",
            "2\n",
            "3\n",
            "4\n"
          ]
        }
      ]
    },
    {
      "cell_type": "code",
      "source": [
        "for i in range(100):\n",
        "    print(i)\n",
        "    if i>=7:\n",
        "        break"
      ],
      "metadata": {
        "colab": {
          "base_uri": "https://localhost:8080/"
        },
        "id": "EkKPbARJ7uZ5",
        "outputId": "cbde1aeb-1847-49d3-b511-d2396d5d7d29"
      },
      "execution_count": 11,
      "outputs": [
        {
          "output_type": "stream",
          "name": "stdout",
          "text": [
            "0\n",
            "1\n",
            "2\n",
            "3\n",
            "4\n",
            "5\n",
            "6\n",
            "7\n"
          ]
        }
      ]
    },
    {
      "cell_type": "markdown",
      "source": [
        "\n",
        "\n",
        "---\n",
        "\n",
        "### Continue\n",
        "The continue statement is used to skip the rest of the loop's current iteration and move on to the next iteration."
      ],
      "metadata": {
        "id": "bTbP2a4g72dF"
      }
    },
    {
      "cell_type": "code",
      "source": [
        "for num in range(5):\n",
        "    if num == 2:\n",
        "        print (\"Number is 2\")\n",
        "    print(num)"
      ],
      "metadata": {
        "colab": {
          "base_uri": "https://localhost:8080/"
        },
        "id": "GoJL1XyG8Czf",
        "outputId": "18622fe9-13d0-4653-92d0-8d7f6743134e"
      },
      "execution_count": 13,
      "outputs": [
        {
          "output_type": "stream",
          "name": "stdout",
          "text": [
            "0\n",
            "1\n",
            "Number is 2\n",
            "2\n",
            "3\n",
            "4\n"
          ]
        }
      ]
    },
    {
      "cell_type": "code",
      "source": [
        "for num in range(5):\n",
        "    if num == 2:\n",
        "        print (\"Number is 2\")\n",
        "        continue\n",
        "    print(num)"
      ],
      "metadata": {
        "colab": {
          "base_uri": "https://localhost:8080/"
        },
        "id": "Q2gkWPIq76Pd",
        "outputId": "e32f5da1-f5cd-4914-dde6-3a2e98dee41f"
      },
      "execution_count": 12,
      "outputs": [
        {
          "output_type": "stream",
          "name": "stdout",
          "text": [
            "0\n",
            "1\n",
            "Number is 2\n",
            "3\n",
            "4\n"
          ]
        }
      ]
    },
    {
      "cell_type": "markdown",
      "source": [
        "\n",
        "\n",
        "---\n",
        "\n",
        "\n",
        "# List Genration"
      ],
      "metadata": {
        "id": "3A1zYwwA8yWK"
      }
    },
    {
      "cell_type": "code",
      "source": [
        "list_of_numbers=[]\n",
        "for number in range(10):\n",
        "  list_of_numbers.append(number)\n",
        "\n",
        "print(list_of_numbers)\n"
      ],
      "metadata": {
        "colab": {
          "base_uri": "https://localhost:8080/"
        },
        "id": "37VZURbk8liM",
        "outputId": "4c191272-8988-4488-81a0-7e6a7cacf26c"
      },
      "execution_count": 14,
      "outputs": [
        {
          "output_type": "stream",
          "name": "stdout",
          "text": [
            "[0, 1, 2, 3, 4, 5, 6, 7, 8, 9]\n"
          ]
        }
      ]
    },
    {
      "cell_type": "markdown",
      "source": [
        "\n",
        "\n",
        "---\n",
        "\n",
        "# List Comprehension\n",
        "\n",
        "A list comprehension is a concise and Pythonic way to create lists based on existing data or perform some operations on the elements during iteration. It combines the for loop and the creation of a new list into a single line, making the code more compact and readable."
      ],
      "metadata": {
        "id": "o92nC2js9krB"
      }
    },
    {
      "cell_type": "markdown",
      "source": [
        "For example If i need to generate multiples of say 5 I write the code using for loop as,\n",
        "\n"
      ],
      "metadata": {
        "id": "nqKV23D49hO7"
      }
    },
    {
      "cell_type": "code",
      "source": [
        "list_of_multiples_of_5=[]\n",
        "for number in range(10):\n",
        "    list_of_multiples_of_5.append(5*number)\n",
        "print(list_of_multiples_of_5)"
      ],
      "metadata": {
        "colab": {
          "base_uri": "https://localhost:8080/"
        },
        "id": "agQfpcB29Dtw",
        "outputId": "bf9b4ff8-24ad-4191-8dd6-e371d6641fda"
      },
      "execution_count": 15,
      "outputs": [
        {
          "output_type": "stream",
          "name": "stdout",
          "text": [
            "[0, 5, 10, 15, 20, 25, 30, 35, 40, 45]\n"
          ]
        }
      ]
    },
    {
      "cell_type": "code",
      "source": [
        "list_of_multiples_of_5=[5*number for number in range(10)]\n",
        "print(list_of_multiples_of_5)"
      ],
      "metadata": {
        "colab": {
          "base_uri": "https://localhost:8080/"
        },
        "id": "shHF5RI29nGD",
        "outputId": "6f9ea11e-71f1-4101-f3a3-afa4185cf836"
      },
      "execution_count": 16,
      "outputs": [
        {
          "output_type": "stream",
          "name": "stdout",
          "text": [
            "[0, 5, 10, 15, 20, 25, 30, 35, 40, 45]\n"
          ]
        }
      ]
    },
    {
      "cell_type": "markdown",
      "source": [
        "List of odd numbers"
      ],
      "metadata": {
        "id": "HSuFOvo2-g7o"
      }
    },
    {
      "cell_type": "code",
      "source": [
        "odd_numbers=[]\n",
        "for i in range (1,10,2):\n",
        "  odd_numbers.append(i)\n",
        "print(odd_numbers)"
      ],
      "metadata": {
        "colab": {
          "base_uri": "https://localhost:8080/"
        },
        "id": "A75ujXUD-Srz",
        "outputId": "5439b878-ca03-4eb1-ed8d-d8582029f7cc"
      },
      "execution_count": 18,
      "outputs": [
        {
          "output_type": "stream",
          "name": "stdout",
          "text": [
            "[1, 3, 5, 7, 9]\n"
          ]
        }
      ]
    },
    {
      "cell_type": "code",
      "source": [
        "odd_numbers=[i for i in range(1,10,2)]\n",
        "print(odd_numbers)"
      ],
      "metadata": {
        "colab": {
          "base_uri": "https://localhost:8080/"
        },
        "id": "jg-nMz0S-tOH",
        "outputId": "019db20a-1f63-44cf-8382-dbce6d798722"
      },
      "execution_count": 19,
      "outputs": [
        {
          "output_type": "stream",
          "name": "stdout",
          "text": [
            "[1, 3, 5, 7, 9]\n"
          ]
        }
      ]
    }
  ]
}