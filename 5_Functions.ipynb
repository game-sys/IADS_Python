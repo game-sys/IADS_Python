{
  "nbformat": 4,
  "nbformat_minor": 0,
  "metadata": {
    "colab": {
      "provenance": [],
      "authorship_tag": "ABX9TyOsRhiVr/4UeNY/vM6Gtgw8",
      "include_colab_link": true
    },
    "kernelspec": {
      "name": "python3",
      "display_name": "Python 3"
    },
    "language_info": {
      "name": "python"
    }
  },
  "cells": [
    {
      "cell_type": "markdown",
      "metadata": {
        "id": "view-in-github",
        "colab_type": "text"
      },
      "source": [
        "<a href=\"https://colab.research.google.com/github/game-sys/IADS_Python/blob/main/5_Functions.ipynb\" target=\"_parent\"><img src=\"https://colab.research.google.com/assets/colab-badge.svg\" alt=\"Open In Colab\"/></a>"
      ]
    },
    {
      "cell_type": "markdown",
      "source": [
        "# Functions\n",
        "Most of the times, In a algorithm the statements keep repeating and it will be a tedious job to execute the same statements again and again and will consume a lot of memory and is not efficient. Enter Functions."
      ],
      "metadata": {
        "id": "eoOqn6h0LJlz"
      }
    },
    {
      "cell_type": "code",
      "execution_count": null,
      "metadata": {
        "id": "q4vHMz_09Vdx"
      },
      "outputs": [],
      "source": [
        "print(\"Hey Adam!\")\n",
        "print(\"Adam, How do you do?\")"
      ]
    },
    {
      "cell_type": "code",
      "source": [
        "def firstfunc():\n",
        "    print(\"Hey Adam!\")\n",
        "    print(\"Adam, How do you do?\")"
      ],
      "metadata": {
        "id": "frsSXtpTMHM8"
      },
      "execution_count": null,
      "outputs": []
    },
    {
      "cell_type": "code",
      "source": [
        "firstfunc()"
      ],
      "metadata": {
        "id": "qwz3RiviMIGx"
      },
      "execution_count": null,
      "outputs": []
    },
    {
      "cell_type": "markdown",
      "source": [
        "**firstfunc()** every time just prints the message to a single person. We can make our function **firstfunc()** to accept arguements which will store the name and then prints respective to that accepted name. To do so, add a argument within the function as shown."
      ],
      "metadata": {
        "id": "82fnd_NkMVdU"
      }
    },
    {
      "cell_type": "code",
      "source": [
        "def firstfunc1(username):\n",
        "    print(\"Hey\", username + '!')\n",
        "    print(username + ',' ,\"How do you do?\")"
      ],
      "metadata": {
        "id": "ydw2QUWqMPvt"
      },
      "execution_count": null,
      "outputs": []
    },
    {
      "cell_type": "code",
      "source": [
        "name1 = firstfunc1('Haider : ')"
      ],
      "metadata": {
        "id": "hxRSsSs3McN6"
      },
      "execution_count": null,
      "outputs": []
    },
    {
      "cell_type": "markdown",
      "source": [
        "## Return Statement\n",
        "\n",
        "When the function results in some value and that value has to be stored in a variable or needs to be sent back or returned for further operation to the main algorithm, return statement is used."
      ],
      "metadata": {
        "id": "zkfJrGAKMsR_"
      }
    },
    {
      "cell_type": "code",
      "source": [
        "def times(x,y):\n",
        "    z = x*y\n",
        "    return(z)"
      ],
      "metadata": {
        "id": "mU_u1eodMcv-"
      },
      "execution_count": null,
      "outputs": []
    },
    {
      "cell_type": "code",
      "source": [
        "times(5,6)"
      ],
      "metadata": {
        "id": "Db03WIEtM3-d"
      },
      "execution_count": null,
      "outputs": []
    },
    {
      "cell_type": "code",
      "source": [
        "c = times(4,5)\n",
        "print(c)"
      ],
      "metadata": {
        "id": "mlwQxSLmM5I9"
      },
      "execution_count": null,
      "outputs": []
    },
    {
      "cell_type": "code",
      "source": [
        "eglist = [10,50,30,12,6,8,100]"
      ],
      "metadata": {
        "id": "jWQu1CN8M6rV"
      },
      "execution_count": null,
      "outputs": []
    },
    {
      "cell_type": "code",
      "source": [
        "def egfunc(eglist):\n",
        "    highest = max(eglist)\n",
        "    lowest = min(eglist)\n",
        "    first = eglist[0]\n",
        "    last = eglist[-1]\n",
        "    return highest,lowest,first,last"
      ],
      "metadata": {
        "id": "X9XMA97OM75M"
      },
      "execution_count": null,
      "outputs": []
    },
    {
      "cell_type": "code",
      "source": [
        "egfunc(eglist)"
      ],
      "metadata": {
        "id": "W6Xe9u5-M9nc"
      },
      "execution_count": null,
      "outputs": []
    },
    {
      "cell_type": "markdown",
      "source": [
        "## Implicit arguments\n",
        "\n",
        "When an argument of a function is common in majority of the cases or it is \"implicit\" this concept is used."
      ],
      "metadata": {
        "id": "Up0HY9_9NANk"
      }
    },
    {
      "cell_type": "code",
      "source": [
        "def implicitadd(x,y=3):\n",
        "    return x+y"
      ],
      "metadata": {
        "id": "j9nlC1G6NDzL"
      },
      "execution_count": null,
      "outputs": []
    },
    {
      "cell_type": "code",
      "source": [
        "implicitadd(4)"
      ],
      "metadata": {
        "id": "ZuD7DZdQNGqC"
      },
      "execution_count": null,
      "outputs": []
    },
    {
      "cell_type": "code",
      "source": [
        "implicitadd(4,6)"
      ],
      "metadata": {
        "id": "ipB_rX6HNH5y"
      },
      "execution_count": null,
      "outputs": []
    }
  ]
}